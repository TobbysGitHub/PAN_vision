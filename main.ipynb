{
 "cells": [
  {
   "cell_type": "code",
   "execution_count": null,
   "metadata": {
    "collapsed": true
   },
   "outputs": [],
   "source": [
    "from programs.train import *\n",
    "from programs import train\n",
    "%matplotlib inline\n",
    "train.DATA_DIR='data/npimage16.npy'\n",
    "from programs import model\n",
    "train.BATCH_SIZE = 512"
   ]
  },
  {
   "cell_type": "code",
   "execution_count": null,
   "outputs": [],
   "source": [
    "# experimental\n",
    "train.CTR = False\n",
    "main()\n",
    "state_dict = torch.load(os.path.join('data', 'model.state_dict.196'))\n",
    "model = Model().to(device)\n",
    "model.load_state_dict(state_dict)\n",
    "visualize(model)\n",
    "# the code may collapse sometimes. Just retry again."
   ],
   "metadata": {
    "collapsed": false,
    "pycharm": {
     "name": "#%%\n"
    }
   }
  },
  {
   "cell_type": "code",
   "execution_count": null,
   "outputs": [],
   "source": [
    "# control group\n",
    "train.CTR = True\n",
    "main()\n",
    "state_dict = torch.load(os.path.join('data', 'model.state_dict.196'))\n",
    "model = Model().to(device)\n",
    "model.load_state_dict(state_dict)\n",
    "visualize(model)"
   ],
   "metadata": {
    "collapsed": false,
    "pycharm": {
     "name": "#%%\n"
    }
   }
  },
  {
   "cell_type": "code",
   "execution_count": null,
   "outputs": [],
   "source": [
    "%load_ext tensorboard\n",
    "%tensorboard --logdir runs\n"
   ],
   "metadata": {
    "collapsed": false,
    "pycharm": {
     "name": "#%%\n"
    }
   }
  }
 ],
 "metadata": {
  "language_info": {
   "codemirror_mode": {
    "name": "ipython",
    "version": 2
   },
   "file_extension": ".py",
   "mimetype": "text/x-python",
   "name": "python",
   "nbconvert_exporter": "python",
   "pygments_lexer": "ipython2",
   "version": "2.7.6"
  },
  "kernelspec": {
   "name": "python3",
   "language": "python",
   "display_name": "Python 3"
  },
  "pycharm": {
   "stem_cell": {
    "cell_type": "raw",
    "source": [
     "##%%\n",
     "import os\n",
     "os.environ['TZ']='Asia/Shanghai'\n",
     "# os.chdir('/content/drive/My Drive/project/PAN_vision')"
    ],
    "metadata": {
     "collapsed": false
    }
   }
  }
 },
 "nbformat": 4,
 "nbformat_minor": 0
}