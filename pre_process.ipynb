{
 "cells": [
  {
   "cell_type": "code",
   "execution_count": 2,
   "metadata": {
    "pycharm": {
     "is_executing": false
    }
   },
   "outputs": [],
   "source": [
    "import cv2\n",
    "import numpy as np\n",
    "import matplotlib.pyplot as plt\n",
    "import os\n",
    "%matplotlib inline"
   ]
  },
  {
   "cell_type": "code",
   "execution_count": 11,
   "metadata": {},
   "outputs": [],
   "source": [
    "SIZE = 32\n",
    "def gaussian(img):\n",
    "    return cv2.GaussianBlur(img,(3,3),0)\n",
    "\n",
    "def gray(img):\n",
    "    return cv2.cvtColor(img,cv2.COLOR_BGR2GRAY)\n",
    "\n",
    "def split(img):\n",
    "    shape = img.shape\n",
    "    n_h = shape[0]//SIZE\n",
    "    h = shape[0]//SIZE*SIZE\n",
    "    n_w = shape[1]//SIZE\n",
    "    w = shape[1]//SIZE*SIZE\n",
    "    img = img[:h, :w]\n",
    "    strips = np.split(img, n_h)\n",
    "    l = []\n",
    "    for s in strips:\n",
    "        l.extend(np.split(s, n_w, axis=1))\n",
    "    return l\n",
    "\n",
    "def whitening(img):\n",
    "    mean = np.mean(img)\n",
    "    std = np.sqrt(np.mean(np.square(img-mean)))\n",
    "    return (img - mean)/std\n",
    "\n",
    "def image_process(img):\n",
    "    img = gaussian(img)\n",
    "    img = gray(img)\n",
    "    imgs = split(img)\n",
    "    imgs = [whitening(img) for img in imgs]\n",
    "    return imgs\n",
    "# img = cv2.imread('images/800.jpeg',1)\n",
    "# imgs = image_process(img)"
   ]
  },
  {
   "cell_type": "code",
   "execution_count": 12,
   "metadata": {},
   "outputs": [
    {
     "name": "stdout",
     "output_type": "stream",
     "text": [
      "images (2).jpeg\n",
      "images (4).jpeg\n",
      "images.jpeg\n",
      "images (10).jpeg\n",
      "images (6).jpeg\n",
      "800.jpeg\n",
      "images (1).jpeg\n",
      "images (3).jpeg\n",
      "images (11).jpeg\n",
      "images (7).jpeg\n",
      "images (5).jpeg\n",
      "images (9).jpeg\n",
      "B881095692Z.1_20200401114556_000_GPDU0S9Q.3-0_Super_Portrait.jpg\n",
      "images (8).jpeg\n",
      "uploads1558403453552-w8pr1ao0hal-a44d21dc678375882f3a763b383fddf4DSC01402-1170x738.jpg\n"
     ]
    }
   ],
   "source": [
    "def imread(f, Dir):\n",
    "    path = os.path.join(Dir, f)\n",
    "    img = cv2.imread(path)\n",
    "    return img\n",
    "def batch_process(img_dir):\n",
    "    l = []\n",
    "    files = os.listdir(img_dir)\n",
    "    for f in files:\n",
    "        print(f)\n",
    "        img = imread(f, img_dir)\n",
    "        imgs = image_process(img)\n",
    "        l.extend(imgs)\n",
    "    return l\n",
    "\n",
    "imgs = batch_process('images')\n",
    "imgs = np.stack(imgs)\n",
    "np.save('data/npimage32', imgs)"
   ]
  },
  {
   "cell_type": "code",
   "execution_count": 13,
   "metadata": {},
   "outputs": [
    {
     "data": {
      "text/plain": [
       "<matplotlib.image.AxesImage at 0x125389128>"
      ]
     },
     "execution_count": 13,
     "metadata": {},
     "output_type": "execute_result"
    },
    {
     "data": {
      "image/png": "[encoded data removed]",
      "text/plain": [
       "<Figure size 144x144 with 1 Axes>"
      ]
     },
     "metadata": {
      "needs_background": "light"
     },
     "output_type": "display_data"
    }
   ],
   "source": [
    "plt.figure(figsize=(2, 2))\n",
    "plt.imshow(imgs[940], cmap='PiYG')"
   ]
  },
  {
   "cell_type": "code",
   "execution_count": 14,
   "metadata": {},
   "outputs": [
    {
     "data": {
      "text/plain": [
       "(32, 32)"
      ]
     },
     "execution_count": 14,
     "metadata": {},
     "output_type": "execute_result"
    }
   ],
   "source": [
    "imgs[940].shape"
   ]
  }
 ],
 "metadata": {
  "kernelspec": {
   "display_name": "Python 3",
   "language": "python",
   "name": "python3"
  },
  "language_info": {
   "codemirror_mode": {
    "name": "ipython",
    "version": 3
   },
   "file_extension": ".py",
   "mimetype": "text/x-python",
   "name": "python",
   "nbconvert_exporter": "python",
   "pygments_lexer": "ipython3",
   "version": "3.6.9"
  }
 },
 "nbformat": 4,
 "nbformat_minor": 1
}
